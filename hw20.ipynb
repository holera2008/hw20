{
  "nbformat": 4,
  "nbformat_minor": 0,
  "metadata": {
    "colab": {
      "provenance": [],
      "authorship_tag": "ABX9TyP4WjGMvWJx7j+6CrbCGWJm",
      "include_colab_link": true
    },
    "kernelspec": {
      "name": "python3",
      "display_name": "Python 3"
    },
    "language_info": {
      "name": "python"
    }
  },
  "cells": [
    {
      "cell_type": "markdown",
      "metadata": {
        "id": "view-in-github",
        "colab_type": "text"
      },
      "source": [
        "<a href=\"https://colab.research.google.com/github/holera2008/hw20/blob/main/hw20.ipynb\" target=\"_parent\"><img src=\"https://colab.research.google.com/assets/colab-badge.svg\" alt=\"Open In Colab\"/></a>"
      ]
    },
    {
      "cell_type": "code",
      "execution_count": 1,
      "metadata": {
        "colab": {
          "base_uri": "https://localhost:8080/"
        },
        "id": "9WBYiqbCsdOZ",
        "outputId": "eff3b7be-ea2c-40e7-ff7a-daeff68f2b87"
      },
      "outputs": [
        {
          "output_type": "stream",
          "name": "stdout",
          "text": [
            "lo \n"
          ]
        }
      ],
      "source": [
        "from pathlib import Path\n",
        "\n",
        "def file_operations(path, additional_info, start_pos, count_chars):\n",
        "    with open(path, 'a+') as f:\n",
        "        f.write(additional_info)\n",
        "        f.seek(start_pos-1)\n",
        "        return f.read(count_chars)\n",
        "\n",
        "if __name__ == \"__main__\":\n",
        "    print(file_operations('', 'hello world', 4, 3))"
      ]
    },
    {
      "cell_type": "code",
      "source": [
        "from pathlib import Path\n",
        "\n",
        "def get_employees_by_profession(path, profession):\n",
        "    with open(path, 'r') as f:\n",
        "        list_lines = []\n",
        "        while True:\n",
        "            if f.readline():\n",
        "                line = f.readline()\n",
        "                if profession in line:\n",
        "                    list_lines.append(line)\n",
        "            if not f.readline():\n",
        "                break\n",
        "    lines = '\\n'.join(list_lines)\n",
        "    return lines.replace(profession, '')\n",
        "\n",
        "if __name__ == '__main__':\n",
        "    print(get_employees_by_profession('', 'manager'))"
      ],
      "metadata": {
        "id": "DiUqY4hj0XlU",
        "colab": {
          "base_uri": "https://localhost:8080/"
        },
        "outputId": "3752a125-3f36-4e10-c224-dfb35a3e3718"
      },
      "execution_count": 7,
      "outputs": [
        {
          "output_type": "stream",
          "name": "stdout",
          "text": [
            "\n"
          ]
        }
      ]
    }
  ]
}